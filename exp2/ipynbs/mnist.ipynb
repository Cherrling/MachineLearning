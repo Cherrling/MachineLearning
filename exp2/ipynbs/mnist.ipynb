{
 "cells": [
  {
   "cell_type": "code",
   "execution_count": null,
   "metadata": {},
   "outputs": [],
   "source": [
    "#1.1\n",
    "from keras.datasets import mnist\n",
    "(x_train, y_train), (x_test, y_test) = mnist.load_data()\n",
    "#\n",
    "print('shape of x_train:' + str(x_train.shape))\n",
    "print('shape of x_test:' + str(x_test.shape))\n",
    "print('shape of y_train:' + str(y_train.shape))\n",
    "print('shape of y_test:' + str(y_test.shape))"
   ]
  }
 ],
 "metadata": {
  "language_info": {
   "name": "python"
  }
 },
 "nbformat": 4,
 "nbformat_minor": 2
}
