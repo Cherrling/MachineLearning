{
 "cells": [
  {
   "cell_type": "code",
   "execution_count": 2,
   "metadata": {},
   "outputs": [
    {
     "name": "stdout",
     "output_type": "stream",
     "text": [
      "shape of x_train:(60000, 28, 28)\n",
      "shape of x_test:(10000, 28, 28)\n",
      "shape of y_train:(60000,)\n",
      "shape of y_test:(10000,)\n"
     ]
    }
   ],
   "source": [
    "#1.1\n",
    "from keras.datasets import mnist\n",
    "(x_train, y_train), (x_test, y_test) = mnist.load_data()\n",
    "#\n",
    "print('shape of x_train:' + str(x_train.shape))\n",
    "print('shape of x_test:' + str(x_test.shape))\n",
    "print('shape of y_train:' + str(y_train.shape))\n",
    "print('shape of y_test:' + str(y_test.shape))"
   ]
  },
  {
   "cell_type": "code",
   "execution_count": 3,
   "metadata": {},
   "outputs": [
    {
     "name": "stdout",
     "output_type": "stream",
     "text": [
      "shape of x_train_vec is(60000, 28, 28, 1)\n"
     ]
    }
   ],
   "source": [
    "#1.2\n",
    "x_train_vec_total = x_train.reshape((60000,28,28,1))/255.0\n",
    "x_test_vec = x_test.reshape((10000,28,28,1))/255.0\n",
    "print('shape of x_train_vec is' + \n",
    "str(x_train_vec_total.shape))"
   ]
  },
  {
   "cell_type": "code",
   "execution_count": 4,
   "metadata": {},
   "outputs": [
    {
     "name": "stdout",
     "output_type": "stream",
     "text": [
      "shape of y_train_vec is(60000, 10)\n"
     ]
    }
   ],
   "source": [
    "# #1.3\n",
    "import numpy as np\n",
    "def to_one_hot(labels,dimension = 10):\n",
    "    results = np.zeros((len(labels),dimension))\n",
    "    for i, label in enumerate(labels):\n",
    "        results[i, label] =1.\n",
    "    return results\n",
    "y_train_vec_total = to_one_hot(y_train)\n",
    "y_test_vec = to_one_hot(y_test)\n",
    "print('shape of y_train_vec is' + \n",
    "str(y_train_vec_total.shape))"
   ]
  },
  {
   "cell_type": "code",
   "execution_count": 5,
   "metadata": {},
   "outputs": [
    {
     "name": "stdout",
     "output_type": "stream",
     "text": [
      "shape of x_train_vec: (50000, 28, 28, 1)\n",
      "shape of y_train_vec: (50000, 10)\n",
      "shape of x_valid_vec: (10000, 28, 28, 1)\n",
      "shape of y_valid_vec: (10000, 10)\n"
     ]
    }
   ],
   "source": [
    "# #1.4\n",
    "#\n",
    "#\n",
    "rand_indices = np.random.permutation(60000)\n",
    "train_indices = rand_indices[0:50000]\n",
    "valid_indices = rand_indices[50000:60000]\n",
    "x_train_vec = x_train_vec_total[train_indices, :]\n",
    "y_train_vec = y_train_vec_total[train_indices, :]\n",
    "print('shape of x_train_vec: ' + str(x_train_vec.shape))\n",
    "print('shape of y_train_vec: ' + str(y_train_vec.shape))\n",
    "x_valid_vec = x_train_vec_total[valid_indices, :]\n",
    "y_valid_vec = y_train_vec_total[valid_indices, :]\n",
    "print('shape of x_valid_vec: ' + str(x_valid_vec.shape))\n",
    "print('shape of y_valid_vec: ' + str(y_valid_vec.shape))"
   ]
  }
 ],
 "metadata": {
  "kernelspec": {
   "display_name": "Python 3",
   "language": "python",
   "name": "python3"
  },
  "language_info": {
   "codemirror_mode": {
    "name": "ipython",
    "version": 3
   },
   "file_extension": ".py",
   "mimetype": "text/x-python",
   "name": "python",
   "nbconvert_exporter": "python",
   "pygments_lexer": "ipython3",
   "version": "3.12.5"
  }
 },
 "nbformat": 4,
 "nbformat_minor": 2
}
